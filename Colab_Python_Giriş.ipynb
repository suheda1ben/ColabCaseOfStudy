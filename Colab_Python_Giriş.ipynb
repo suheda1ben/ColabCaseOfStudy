{
  "nbformat": 4,
  "nbformat_minor": 0,
  "metadata": {
    "colab": {
      "provenance": [],
      "authorship_tag": "ABX9TyOcDoV4S8MzMJlcINuoNYWS",
      "include_colab_link": true
    },
    "kernelspec": {
      "name": "python3",
      "display_name": "Python 3"
    },
    "language_info": {
      "name": "python"
    }
  },
  "cells": [
    {
      "cell_type": "markdown",
      "metadata": {
        "id": "view-in-github",
        "colab_type": "text"
      },
      "source": [
        "<a href=\"https://colab.research.google.com/github/suheda1ben/ColabCaseOfStudy/blob/main/Colab_Python_Giri%C5%9F.ipynb\" target=\"_parent\"><img src=\"https://colab.research.google.com/assets/colab-badge.svg\" alt=\"Open In Colab\"/></a>"
      ]
    },
    {
      "cell_type": "code",
      "execution_count": null,
      "metadata": {
        "id": "Kd_hLDnw1-br",
        "outputId": "9b3bef94-dd2d-4af2-8171-44be06958615",
        "colab": {
          "base_uri": "https://localhost:8080/"
        }
      },
      "outputs": [
        {
          "output_type": "stream",
          "name": "stdout",
          "text": [
            "Python Giriş\n"
          ]
        }
      ],
      "source": [
        "print(\"Python Giriş\")"
      ]
    },
    {
      "cell_type": "code",
      "source": [],
      "metadata": {
        "id": "ewAzzDLl2Duq"
      },
      "execution_count": null,
      "outputs": []
    }
  ]
}